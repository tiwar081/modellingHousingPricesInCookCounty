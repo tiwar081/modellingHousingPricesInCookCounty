{
 "cells": [
  {
   "cell_type": "code",
   "execution_count": 45,
   "id": "d64c32dc-2cae-44cf-aeaa-da1d4ee9389f",
   "metadata": {},
   "outputs": [],
   "source": [
    "import numpy as np\n",
    "\n",
    "import pandas as pd\n",
    "from pandas.api.types import CategoricalDtype\n",
    "\n",
    "%matplotlib inline\n",
    "import matplotlib.pyplot as plt\n",
    "import seaborn as sns\n",
    "from sklearn import linear_model as lm\n",
    "from sklearn.preprocessing import OneHotEncoder\n",
    "\n",
    "import warnings\n",
    "warnings.filterwarnings(\"ignore\")\n",
    "\n",
    "import zipfile\n",
    "import os\n",
    "\n",
    "from ds100_utils import run_linear_regression_test\n",
    "\n",
    "# Plot settings\n",
    "plt.rcParams['figure.figsize'] = (12, 9)\n",
    "plt.rcParams['font.size'] = 12"
   ]
  },
  {
   "cell_type": "markdown",
   "id": "5c7022ed-906e-4a9c-a789-94a96ed0d100",
   "metadata": {},
   "source": [
    "Let's load the training/validation and test data. NOTE: The files from with these data came were too large to be stored on gitHub."
   ]
  },
  {
   "cell_type": "code",
   "execution_count": 46,
   "id": "55d6e2a2-301e-4db8-bf55-996f80064f66",
   "metadata": {},
   "outputs": [],
   "source": [
    "training_val_data = pd.read_csv(\"cook_county_train_val.csv\", index_col='Unnamed: 0')\n",
    "test_data = pd.read_csv(\"cook_county_contest_test.csv\", index_col='Unnamed: 0')\n",
    "\n",
    "assert training_val_data.shape == (204792, 62)\n",
    "assert test_data.shape == (55311, 61)\n",
    "assert 'Sale Price' in training_val_data.columns.values\n",
    "assert 'Sale Price' not in test_data.columns.values"
   ]
  },
  {
   "cell_type": "code",
   "execution_count": 47,
   "id": "4640f705-8363-4d04-867f-79ac0dde81fb",
   "metadata": {},
   "outputs": [
    {
     "data": {
      "text/plain": [
       "array(['PIN', 'Property Class', 'Neighborhood Code', 'Land Square Feet',\n",
       "       'Town Code', 'Apartments', 'Wall Material', 'Roof Material',\n",
       "       'Basement', 'Basement Finish', 'Central Heating', 'Other Heating',\n",
       "       'Central Air', 'Fireplaces', 'Attic Type', 'Attic Finish',\n",
       "       'Design Plan', 'Cathedral Ceiling', 'Construction Quality',\n",
       "       'Site Desirability', 'Garage 1 Size', 'Garage 1 Material',\n",
       "       'Garage 1 Attachment', 'Garage 1 Area', 'Garage 2 Size',\n",
       "       'Garage 2 Material', 'Garage 2 Attachment', 'Garage 2 Area',\n",
       "       'Porch', 'Other Improvements', 'Building Square Feet',\n",
       "       'Repair Condition', 'Multi Code', 'Number of Commercial Units',\n",
       "       'Estimate (Land)', 'Estimate (Building)', 'Deed No.', 'Sale Price',\n",
       "       'Longitude', 'Latitude', 'Census Tract',\n",
       "       'Multi Property Indicator', 'Modeling Group', 'Age', 'Use',\n",
       "       \"O'Hare Noise\", 'Floodplain', 'Road Proximity', 'Sale Year',\n",
       "       'Sale Quarter', 'Sale Half-Year', 'Sale Quarter of Year',\n",
       "       'Sale Month of Year', 'Sale Half of Year', 'Most Recent Sale',\n",
       "       'Age Decade', 'Pure Market Filter', 'Garage Indicator',\n",
       "       'Neigborhood Code (mapping)', 'Town and Neighborhood',\n",
       "       'Description', 'Lot Size'], dtype=object)"
      ]
     },
     "execution_count": 47,
     "metadata": {},
     "output_type": "execute_result"
    }
   ],
   "source": [
    "training_val_data.columns.values"
   ]
  },
  {
   "cell_type": "markdown",
   "id": "4fafc910-57da-4bb8-9deb-ba9e9fb7c174",
   "metadata": {},
   "source": [
    "## Preparing Data\n",
    "\n",
    "\n",
    "Let's split the dataset into a training set and validation set."
   ]
  },
  {
   "cell_type": "code",
   "execution_count": 71,
   "id": "e3352efb-b289-4ecb-86dd-f03a0e4073d1",
   "metadata": {},
   "outputs": [],
   "source": [
    "def train_val_split(data):\n",
    "    data_len = data.shape[0]\n",
    "    shuffled_indices = np.random.permutation(data_len)\n",
    "    split = int(0.8*len(shuffled_indices))\n",
    "    train_indices = shuffled_indices[0:split]\n",
    "    validation_indices = shuffled_indices[split:]\n",
    "    train = data.loc[train_indices, :]\n",
    "    validation = data.loc[validation_indices, :]\n",
    "   \n",
    "    return train, validation\n",
    "train, validation = train_val_split(training_val_data)"
   ]
  },
  {
   "cell_type": "markdown",
   "id": "1ec0a49c-ae9c-4fb1-be61-5c25676a668d",
   "metadata": {},
   "source": [
    "## Useful Setup\n",
    "\n",
    "Below I copy over a few useful functions from part I of this project."
   ]
  },
  {
   "cell_type": "code",
   "execution_count": 72,
   "id": "ea369b6c-3bf2-41c4-99d7-2d067c6a8a4a",
   "metadata": {},
   "outputs": [],
   "source": [
    "def remove_outliers(data, variable, lower=-np.inf, upper=np.inf):\n",
    "    \"\"\"\n",
    "    Input:\n",
    "      data (DataFrame): the table to be filtered\n",
    "      variable (string): the column with numerical outliers\n",
    "      lower (numeric): observations with values lower than or equal to this will be removed\n",
    "      upper (numeric): observations with values higher than this will be removed\n",
    "    \n",
    "    Output:\n",
    "      a DataFrame with outliers removed\n",
    "      \n",
    "    Note: This function should not change mutate the contents of data.\n",
    "    \"\"\"  \n",
    "    return data.loc[(data[variable] > lower) & (data[variable] <= upper), :]\n",
    "\n",
    "def add_total_bedrooms(data):\n",
    "    \"\"\"\n",
    "    Input:\n",
    "      data (DataFrame): a DataFrame containing at least the Description column.\n",
    "    \"\"\"\n",
    "    with_rooms = data.copy()\n",
    "    with_rooms[\"Bedrooms\"] = with_rooms[\"Description\"].str.extract(r\"(\\d+) of which are bedrooms\").astype(int)\n",
    "    return with_rooms\n",
    "\n",
    "def find_expensive_neighborhoods(data, n=3, metric=np.median):\n",
    "    \"\"\"\n",
    "    Input:\n",
    "      data (DataFrame): should contain at least a string-valued 'Neighborhood Code'\n",
    "        and a numeric 'Log Sale Price' column\n",
    "      n (int): the number of top values desired\n",
    "      metric (function): function used for aggregating the data in each neighborhood.\n",
    "        for example, np.median for median prices\n",
    "    \n",
    "    Output:\n",
    "      a list of the the neighborhood codes of the top n highest-priced neighborhoods \n",
    "      as measured by the metric function\n",
    "    \"\"\"\n",
    "    neighborhoods = data.groupby(\"Neighborhood Code\").agg(metric).sort_values(\"Log Sale Price\").nlargest(n, \"Log Sale Price\").index\n",
    "    \n",
    "    # This makes sure the final list contains the generic int type used in Python3, not specific ones used in numpy.\n",
    "    return [int(code) for code in neighborhoods]\n",
    "\n",
    "def add_in_expensive_neighborhood(data, neighborhoods):\n",
    "    \"\"\"\n",
    "    Input:\n",
    "      data (DataFrame): a DataFrame containing a 'Neighborhood Code' column with values\n",
    "        found in the codebook\n",
    "      neighborhoods (list of strings): strings should be the names of neighborhoods\n",
    "        pre-identified as expensive\n",
    "    Output:\n",
    "      DataFrame identical to the input with the addition of a binary\n",
    "      in_expensive_neighborhood column\n",
    "    \"\"\"\n",
    "    data['in_expensive_neighborhood'] = data[\"Neighborhood Code\"].isin(neighborhoods).astype(int)\n",
    "    return data\n",
    "\n",
    "def ohe_roof_material(data):\n",
    "    \"\"\"\n",
    "    One-hot-encodes roof material. New columns are of the form \"Roof Material_MATERIAL\".\n",
    "    \"\"\"\n",
    "\n",
    "    cat = [\"Roof Material\"]\n",
    "    oh_enc = OneHotEncoder()\n",
    "    oh_enc.fit(data[cat])\n",
    "    oh_enc_df = pd.DataFrame(data=oh_enc.transform(data[cat]).toarray(), columns=oh_enc.get_feature_names_out(), index=data.index)\n",
    "    return data.join(oh_enc_df)"
   ]
  },
  {
   "cell_type": "markdown",
   "id": "0c5ff5c3-4cc4-4034-9f09-da4f2604eafe",
   "metadata": {},
   "source": [
    "I've written a function to compute the RMSE of the model we'll ultimately use."
   ]
  },
  {
   "cell_type": "code",
   "execution_count": 73,
   "id": "eb3799d4-44a1-4e5a-a78e-2a4ba4296507",
   "metadata": {},
   "outputs": [],
   "source": [
    "def rmse(predicted, actual):\n",
    "    \"\"\"\n",
    "    Calculates RMSE from actual and predicted values\n",
    "    Input:\n",
    "      predicted (1D array): vector of predicted/fitted values\n",
    "      actual (1D array): vector of actual values\n",
    "    Output:\n",
    "      a float, the root-mean square error\n",
    "    \"\"\"\n",
    "    return np.sqrt(np.mean((actual - predicted)**2))"
   ]
  },
  {
   "cell_type": "markdown",
   "id": "9b42c9a0-53eb-432d-863b-5af25d315283",
   "metadata": {},
   "source": [
    "I've also written a function to one hot encode categorical variables and incorporate them in a dataframe without the original categorical columns! This will come very handy."
   ]
  },
  {
   "cell_type": "code",
   "execution_count": 74,
   "id": "a35e266a-f643-42b7-a733-2a7fe5a271ea",
   "metadata": {},
   "outputs": [],
   "source": [
    "def one_hot_encode(data, cat):\n",
    "    \"\"\"\n",
    "    Return the one-hot encoded dataframe of our input data, removing redundancies.\n",
    "    \n",
    "    Parameters\n",
    "    -----------\n",
    "    data: a dataframe that may include non-numerical features\n",
    "    cat: columns to one-hot-encode\n",
    "    \n",
    "    Returns\n",
    "    -----------\n",
    "    A one-hot encoded dataframe that only contains numeric features without any redundancies.\n",
    "    \n",
    "    \"\"\"\n",
    "    oh_enc = OneHotEncoder()\n",
    "    oh_enc.fit(data[cat])\n",
    "    oh_enc_df = pd.DataFrame(data=oh_enc.transform(data[cat]).toarray(), columns=oh_enc.get_feature_names_out(), index=data.index)\n",
    "    dat = data.join(oh_enc_df)\n",
    "    return dat.drop(columns=cat)"
   ]
  },
  {
   "cell_type": "markdown",
   "id": "f540c398-fda8-402d-8f7f-3fa12499774d",
   "metadata": {},
   "source": [
    "## Constructing the Model\n",
    "\n",
    "Below I've isolated the features I will use for this multilinnear regression model. cat_ohe are categorical features that I one hot encode. The cat_log features are ones whose relations best match Log Sale Price when I take the logarithm of them. The cat_oth features I don't need to do anything additional to."
   ]
  },
  {
   "cell_type": "code",
   "execution_count": 75,
   "id": "d28f13be-e026-4e32-8b12-62380fd7e0fb",
   "metadata": {},
   "outputs": [],
   "source": [
    "cat_oth = [\"Bedrooms\"]\n",
    "cat_log = [\"Land Square Feet\", \"Building Square Feet\", \"Estimate (Land)\", \"Estimate (Building)\"]\n",
    "cat_ohe = [\"Construction Quality\", \"Roof Material\", \"Wall Material\", \"Repair Condition\", \"Garage 1 Size\"]"
   ]
  },
  {
   "cell_type": "markdown",
   "id": "9de80153-9337-4476-b898-ba1553a3201e",
   "metadata": {},
   "source": [
    "Next, I construct a multilinear regression model using these features."
   ]
  },
  {
   "cell_type": "code",
   "execution_count": 76,
   "id": "afa100af-b761-48c1-ad1e-2ad51188412a",
   "metadata": {},
   "outputs": [],
   "source": [
    "def model_constructor(data):\n",
    "    dat = add_total_bedrooms(data)\n",
    "    \n",
    "    #features that are used and predictor\n",
    "    kept_cols = cat_oth+cat_ohe+[\"Log Sale Price\"]\n",
    "\n",
    "    dat['Log Sale Price'] = np.log(dat['Sale Price'])\n",
    "    #Adding features on a log scale to dataset \n",
    "    for cat in cat_log:\n",
    "        feature = \"Log\" + cat\n",
    "        dat[feature] = np.log(dat[cat]+1)\n",
    "        kept_cols.append(feature)\n",
    "    dat = dat.drop(columns=[col for col in data.columns if col not in kept_cols])\n",
    "    \n",
    "    #One hot encoding categorical features\n",
    "    dat = one_hot_encode(dat, cat_ohe)\n",
    "    \n",
    "    dat = dat.fillna(0)\n",
    "    X = dat.drop(columns=[\"Log Sale Price\"])\n",
    "    model = lm.LinearRegression(fit_intercept=True)\n",
    "    model.fit(X, dat[\"Log Sale Price\"])\n",
    "    \n",
    "    return X, model"
   ]
  },
  {
   "cell_type": "code",
   "execution_count": 77,
   "id": "667d38af-58be-4a79-bc82-789341a2d824",
   "metadata": {},
   "outputs": [],
   "source": [
    "train_copy = remove_outliers(train, \"Sale Price\", lower=500)\n",
    "X, model = model_constructor(train_copy)"
   ]
  },
  {
   "cell_type": "markdown",
   "id": "8fd659c1-8cd2-4b97-8fd1-a09fc8be15ba",
   "metadata": {},
   "source": [
    "## Predictions with the Model\n",
    "\n",
    "Below, I write a function to make predictions on data (whose outliers have already been removed)."
   ]
  },
  {
   "cell_type": "code",
   "execution_count": 78,
   "id": "e8fd95fd-98cb-43d9-a27d-191ce11031f0",
   "metadata": {},
   "outputs": [],
   "source": [
    "def model_fit(data, model):\n",
    "    dat = add_total_bedrooms(data)\n",
    "    \n",
    "    #features that are used and predictor\n",
    "    kept_cols = cat_oth+cat_ohe+[\"Log Sale Price\"]\n",
    "\n",
    "    dat['Log Sale Price'] = np.log(dat['Sale Price'])\n",
    "    #Adding features on a log scale to dataset \n",
    "    for cat in cat_log:\n",
    "        feature = \"Log\" + cat\n",
    "        dat[feature] = np.log(dat[cat]+1)\n",
    "        kept_cols.append(feature)\n",
    "    dat = dat.drop(columns=[col for col in data.columns if col not in kept_cols])\n",
    "    \n",
    "    #One hot encoding categorical features\n",
    "    dat = one_hot_encode(dat, cat_ohe)\n",
    "    \n",
    "    dat = dat.fillna(0)\n",
    "    return model.predict(dat.drop(columns=[\"Log Sale Price\"]))"
   ]
  },
  {
   "cell_type": "markdown",
   "id": "3438c984-ad12-41da-8ca6-69c827dcc0f8",
   "metadata": {},
   "source": [
    "I start by making predictions on my training set. The rmse shown represents the error in predicting the sale price on a log scale."
   ]
  },
  {
   "cell_type": "code",
   "execution_count": 79,
   "id": "8780162f-af61-4606-8851-3a67d38a9600",
   "metadata": {},
   "outputs": [
    {
     "data": {
      "text/plain": [
       "0.6623038347944189"
      ]
     },
     "execution_count": 79,
     "metadata": {},
     "output_type": "execute_result"
    }
   ],
   "source": [
    "y1 = model_fit(train_copy, model)\n",
    "rmse(y1, np.log(train_copy[\"Sale Price\"]))"
   ]
  },
  {
   "cell_type": "markdown",
   "id": "83defa72-a383-4514-a6b5-ac00448ad409",
   "metadata": {},
   "source": [
    "Next, I make predictions on my validation set. The rmse shown represents the error in predicting the Sale Price. The error is around 210,000. For homes with value on the order of 10^7, this is a more reasonable error. For homes on the value of 10^3, not so much. Let's take a look at where this error is coming from!"
   ]
  },
  {
   "cell_type": "code",
   "execution_count": 83,
   "id": "15ce143a-4a38-47d4-9eaf-6e3c60d131bb",
   "metadata": {},
   "outputs": [
    {
     "data": {
      "text/plain": [
       "210514.7595166608"
      ]
     },
     "execution_count": 83,
     "metadata": {},
     "output_type": "execute_result"
    }
   ],
   "source": [
    "valid_copy = remove_outliers(validation, \"Sale Price\", lower=500)\n",
    "y2 = model_fit(valid_copy, model)\n",
    "rmse(np.exp(y2), valid_copy[\"Sale Price\"])"
   ]
  },
  {
   "cell_type": "markdown",
   "id": "5810dd52-d711-48c1-bf80-9d476d79b7c7",
   "metadata": {},
   "source": [
    "## Final Note"
   ]
  },
  {
   "cell_type": "code",
   "execution_count": 85,
   "id": "eca1deca-cd60-462f-ba57-50f01a3d8762",
   "metadata": {},
   "outputs": [
    {
     "data": {
      "text/plain": [
       "<AxesSubplot:xlabel='Sale Price', ylabel='Residual'>"
      ]
     },
     "execution_count": 85,
     "metadata": {},
     "output_type": "execute_result"
    },
    {
     "data": {
      "image/png": "[encoded data removed]",
      "text/plain": [
       "<Figure size 600x600 with 3 Axes>"
      ]
     },
     "metadata": {},
     "output_type": "display_data"
    }
   ],
   "source": [
    "dat = pd.DataFrame(data={\"Sale Price\": valid_copy[\"Sale Price\"], \"Residual\": (np.exp(y2)-valid_copy[\"Sale Price\"])})\n",
    "graph = sns.jointplot(data=dat, x=\"Sale Price\", y=\"Residual\", kind=\"kde\", fill=True, n_levels=5, xlim=(500, 1000000))\n",
    "sns.lineplot([500, 1000000], [0, 0], color='red', ax=graph.ax_joint, linewidth=1)"
   ]
  },
  {
   "cell_type": "markdown",
   "id": "faca6adb-d225-4e6a-9e36-a54ff239c220",
   "metadata": {},
   "source": [
    "Above, I've constructed a plot that demonstrated how far off my model's estimates of the sale price were. Points above the y=0 axhline are overestimates of the sale price, points below are underestimates. There are a few key promising features about this plot. First, the distribution is evenly spread about zero. This indicates low systematic error in the model. Second, particularly for lower sale prices, the residuals are not as large. This means that basing real estate tax off of this model would not be regressive, as it was in the model Cook County was using for its residents!"
   ]
  },
  {
   "cell_type": "code",
   "execution_count": null,
   "id": "4c1c5eb1-52af-4c40-9368-848f8336c639",
   "metadata": {},
   "outputs": [],
   "source": []
  }
 ],
 "metadata": {
  "kernelspec": {
   "display_name": "Python 3 (ipykernel)",
   "language": "python",
   "name": "python3"
  },
  "language_info": {
   "codemirror_mode": {
    "name": "ipython",
    "version": 3
   },
   "file_extension": ".py",
   "mimetype": "text/x-python",
   "name": "python",
   "nbconvert_exporter": "python",
   "pygments_lexer": "ipython3",
   "version": "3.9.0"
  }
 },
 "nbformat": 4,
 "nbformat_minor": 5
}
